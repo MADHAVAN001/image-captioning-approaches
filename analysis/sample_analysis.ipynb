{
 "cells": [
  {
   "cell_type": "code",
   "execution_count": null,
   "metadata": {
    "collapsed": true
   },
   "outputs": [],
   "source": [
    "import os\n",
    "import sys\n",
    "\n",
    "sys.path.append(\"..\")\n",
    "import language.decoder\n",
    "\n",
    "import yaml\n",
    "from keras import  models\n",
    "\n",
    "from datasets.googlecc import PreProcessing\n",
    "from datasets.common import get_dataset_metadata_cfg\n",
    "\n",
    "import matplotlib.pyplot as plt\n",
    "import matplotlib.image as mpimg"
   ]
  },
  {
   "cell_type": "code",
   "execution_count": null,
   "outputs": [],
   "source": [
    "with open(\"../configs/inception_lstm_server.yaml\") as fp:\n",
    "    cfg = yaml.load(fp)\n",
    "\n",
    "model_workspace_dir = os.path.join(cfg[\"workspace\"][\"directory\"], cfg[\"dataset\"][\"name\"], cfg[\"model\"][\"arch\"])\n",
    "\n",
    "dataset_cfg = get_dataset_metadata_cfg()"
   ],
   "metadata": {
    "collapsed": false,
    "pycharm": {
     "name": "#%%\n"
    }
   }
  },
  {
   "cell_type": "code",
   "execution_count": null,
   "outputs": [],
   "source": [
    "dataset_preprocessor = PreProcessing(cfg, \"inception\")\n",
    "training_generator, validation_generator, test_generator = dataset_preprocessor.get_keras_generators(\"inception\")"
   ],
   "metadata": {
    "collapsed": false,
    "pycharm": {
     "name": "#%%\n"
    }
   }
  },
  {
   "cell_type": "code",
   "execution_count": null,
   "outputs": [],
   "source": [
    "model = models.load_model(os.path.join(model_workspace_dir, 'weights.hdf5'))"
   ],
   "metadata": {
    "collapsed": false,
    "pycharm": {
     "name": "#%%\n"
    }
   }
  },
  {
   "cell_type": "code",
   "execution_count": null,
   "outputs": [],
   "source": [
    "fp = open(dataset_cfg[\"data\"][\"googlecc\"][\"test_images_file\"])\n",
    "\n",
    "lines = fp.readlines()\n",
    "for i in range(0, 100):\n",
    "    img = mpimg.imread(\n",
    "        os.path.join(dataset_cfg[\"data\"][\"googlecc\"][\"dataset_path\"],lines[i].strip())\n",
    "    )\n",
    "    imgplot = plt.imshow(img)\n",
    "    plt.show()\n",
    "    x, y = test_generator[i]\n",
    "    sentence = language.decoder.greedy_decoder(\n",
    "        model,\n",
    "        x[0][0],\n",
    "        dataset_preprocessor.get_word_dictionary(),\n",
    "        dataset_preprocessor.get_id_dictionary(),\n",
    "        40)"
   ],
   "metadata": {
    "collapsed": false,
    "pycharm": {
     "name": "#%%\n"
    }
   }
  }
 ],
 "metadata": {
  "language_info": {
   "codemirror_mode": {
    "name": "ipython",
    "version": 2
   },
   "file_extension": ".py",
   "mimetype": "text/x-python",
   "name": "python",
   "nbconvert_exporter": "python",
   "pygments_lexer": "ipython2",
   "version": "2.7.6"
  },
  "kernelspec": {
   "name": "python3",
   "language": "python",
   "display_name": "Python 3"
  },
  "pycharm": {
   "stem_cell": {
    "cell_type": "raw",
    "source": [],
    "metadata": {
     "collapsed": false
    }
   }
  }
 },
 "nbformat": 4,
 "nbformat_minor": 0
}