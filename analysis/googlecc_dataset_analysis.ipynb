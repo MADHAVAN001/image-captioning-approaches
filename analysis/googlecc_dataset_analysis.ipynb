{
 "cells": [
  {
   "cell_type": "code",
   "execution_count": 1,
   "metadata": {},
   "outputs": [],
   "source": [
    "import string "
   ]
  },
  {
   "cell_type": "code",
   "execution_count": 2,
   "metadata": {},
   "outputs": [
    {
     "name": "stdout",
     "output_type": "stream",
     "text": [
      "<_io.TextIOWrapper name='C:\\\\Users\\\\smadh\\\\Desktop\\\\Assignments\\\\big-data-analytics\\\\data\\\\googlecc\\\\train_GCC-training.tsv' mode='r' encoding='utf8'>\n"
     ]
    }
   ],
   "source": [
    "GOOGLE_CAPTIONS_FILE = \"C:\\\\Users\\\\smadh\\\\Desktop\\\\Assignments\\\\big-data-analytics\\\\data\\\\googlecc\\\\train_GCC-training.tsv\"\n",
    "file = open(GOOGLE_CAPTIONS_FILE, 'r', encoding=\"utf8\")\n",
    "\n",
    "print(file)"
   ]
  },
  {
   "cell_type": "code",
   "execution_count": 3,
   "metadata": {},
   "outputs": [],
   "source": [
    "def clean_tokens(sequence):\n",
    "    table = str.maketrans('', '', string.punctuation)\n",
    "    sequence = [x.lower() for x in sequence]\n",
    "    sequence = [x.translate(table) for x in sequence]\n",
    "    x\n",
    "    return list(filter(lambda a: a not in ['', ' '], sequence))"
   ]
  },
  {
   "cell_type": "code",
   "execution_count": 4,
   "metadata": {
    "pycharm": {
     "name": "#%%\n"
    }
   },
   "outputs": [],
   "source": [
    "word_frequency = dict()\n",
    "for line in file:\n",
    "    sentence = line.strip().split(\"\\t\")[0]\n",
    "    words = clean_tokens(sentence.split(\" \"))\n",
    "    for word in words:\n",
    "        count = word_frequency.get(word, 0) + 1\n",
    "        word_frequency[word] = count"
   ]
  },
  {
   "cell_type": "code",
   "execution_count": 5,
   "metadata": {
    "pycharm": {
     "name": "#%%\n"
    }
   },
   "outputs": [],
   "source": [
    "s = [(k, word_frequency[k]) for k in sorted(word_frequency, key=word_frequency.get, reverse=True)]"
   ]
  },
  {
   "cell_type": "code",
   "execution_count": 6,
   "metadata": {
    "pycharm": {
     "name": "#%%\n"
    }
   },
   "outputs": [
    {
     "name": "stdout",
     "output_type": "stream",
     "text": [
      "[{'word': 'the', 'size': '50.0'}, {'word': 'a', 'size': '49.5'}, {'word': 'of', 'size': '49.0'}, {'word': 'in', 'size': '48.5'}, {'word': 'on', 'size': '48.0'}, {'word': 'and', 'size': '47.5'}, {'word': 'with', 'size': '47.0'}, {'word': 'to', 'size': '46.5'}, {'word': 'person', 'size': '46.0'}, {'word': 'at', 'size': '45.5'}, {'word': 'for', 'size': '45.0'}, {'word': 'during', 'size': '44.5'}, {'word': 'is', 'size': '44.0'}, {'word': 'background', 'size': '43.5'}, {'word': 'from', 'size': '43.0'}, {'word': 'an', 'size': '42.5'}, {'word': 'white', 'size': '42.0'}, {'word': 'this', 'size': '41.5'}, {'word': 'by', 'size': '41.0'}, {'word': 'actor', 'size': '40.5'}, {'word': 'artist', 'size': '40.0'}, {'word': 'as', 'size': '39.5'}, {'word': 's', 'size': '39.0'}, {'word': 'player', 'size': '38.5'}, {'word': 'up', 'size': '38.0'}, {'word': 'view', 'size': '37.5'}, {'word': 'his', 'size': '37.0'}, {'word': 'illustration', 'size': '36.5'}, {'word': 'man', 'size': '36.0'}, {'word': 'football', 'size': '35.5'}, {'word': 'premiere', 'size': '35.0'}, {'word': 'team', 'size': '34.5'}, {'word': 'city', 'size': '34.0'}, {'word': 'her', 'size': '33.5'}, {'word': 'woman', 'size': '33.0'}, {'word': 'image', 'size': '32.5'}, {'word': 'that', 'size': '32.0'}, {'word': 'i', 'size': '31.5'}, {'word': 'against', 'size': '31.0'}, {'word': 'young', 'size': '30.5'}, {'word': 'day', 'size': '30.0'}, {'word': 'vector', 'size': '29.5'}, {'word': 'are', 'size': '29.0'}, {'word': 'you', 'size': '28.5'}, {'word': 'it', 'size': '28.0'}, {'word': 'stage', 'size': '27.5'}, {'word': 'over', 'size': '27.0'}, {'word': 'game', 'size': '26.5'}, {'word': 'black', 'size': '26.0'}, {'word': 'after', 'size': '25.5'}, {'word': 'out', 'size': '25.0'}, {'word': 'beach', 'size': '24.5'}, {'word': 'tree', 'size': '24.0'}, {'word': 'people', 'size': '23.5'}, {'word': 'was', 'size': '23.0'}, {'word': 'red', 'size': '22.5'}, {'word': 'girl', 'size': '22.0'}, {'word': 'their', 'size': '21.5'}, {'word': 'playing', 'size': '21.0'}, {'word': 'your', 'size': '20.5'}, {'word': 'attends', 'size': '20.0'}, {'word': 'night', 'size': '19.5'}, {'word': 'blue', 'size': '19.0'}, {'word': 'film', 'size': '18.5'}, {'word': 'water', 'size': '18.0'}, {'word': 'photo', 'size': '17.5'}, {'word': 'performs', 'size': '17.0'}, {'word': 'room', 'size': '16.5'}, {'word': 'house', 'size': '16.0'}, {'word': 'isolated', 'size': '15.5'}, {'word': 'show', 'size': '15.0'}, {'word': 'new', 'size': '14.5'}, {'word': 'festival', 'size': '14.0'}, {'word': 'beautiful', 'size': '13.5'}, {'word': 'old', 'size': '13.0'}, {'word': 'home', 'size': '12.5'}, {'word': 'into', 'size': '12.0'}, {'word': 'be', 'size': '11.5'}, {'word': 'through', 'size': '11.0'}, {'word': 'fashion', 'size': '10.5'}, {'word': 'match', 'size': '10.0'}, {'word': 'all', 'size': '9.5'}, {'word': 'looking', 'size': '9.0'}, {'word': 'car', 'size': '8.5'}, {'word': 'musical', 'size': '8.0'}, {'word': 'first', 'size': '7.5'}, {'word': 'portrait', 'size': '7.0'}, {'word': 'sky', 'size': '6.5'}, {'word': 'my', 'size': '6.0'}, {'word': 'like', 'size': '5.5'}, {'word': 'may', 'size': '5.0'}, {'word': 'sitting', 'size': '4.5'}, {'word': 'world', 'size': '4.0'}, {'word': 'sports', 'size': '3.5'}, {'word': 'front', 'size': '3.0'}, {'word': 'green', 'size': '2.5'}, {'word': 'rock', 'size': '2.0'}, {'word': 'close', 'size': '1.5'}, {'word': 'or', 'size': '1.0'}, {'word': 'event', 'size': '0.5'}]\n"
     ]
    }
   ],
   "source": [
    "word_cloud_output = list()\n",
    "i = 100\n",
    "max_size = 50\n",
    "min_size = 0\n",
    "for k, v in s[:100]:\n",
    "    \n",
    "    inner_dictionary = dict()\n",
    "    inner_dictionary[\"word\"] = k\n",
    "    inner_dictionary[\"size\"] = str((max_size - min_size) * i /100)\n",
    "    i-=1\n",
    "    word_cloud_output.append(inner_dictionary)\n",
    "    #print(\"{}:{}\".format(k,v))\n",
    "\n",
    "print(word_cloud_output)"
   ]
  },
  {
   "cell_type": "code",
   "execution_count": 7,
   "metadata": {
    "pycharm": {
     "name": "#%%\n"
    }
   },
   "outputs": [],
   "source": [
    "import nltk\n",
    "from nltk.corpus import stopwords\n",
    "stop_words = set(stopwords.words('english'))"
   ]
  },
  {
   "cell_type": "code",
   "execution_count": 8,
   "metadata": {
    "pycharm": {
     "name": "#%%\n"
    }
   },
   "outputs": [
    {
     "name": "stdout",
     "output_type": "stream",
     "text": [
      "[{'word': 'person', 'size': '50.0'}, {'word': 'background', 'size': '49.5'}, {'word': 'white', 'size': '49.0'}, {'word': 'actor', 'size': '48.5'}, {'word': 'artist', 'size': '48.0'}, {'word': 'player', 'size': '47.5'}, {'word': 'view', 'size': '47.0'}, {'word': 'illustration', 'size': '46.5'}, {'word': 'man', 'size': '46.0'}, {'word': 'football', 'size': '45.5'}, {'word': 'premiere', 'size': '45.0'}, {'word': 'team', 'size': '44.5'}, {'word': 'city', 'size': '44.0'}, {'word': 'woman', 'size': '43.5'}, {'word': 'image', 'size': '43.0'}, {'word': 'young', 'size': '42.5'}, {'word': 'day', 'size': '42.0'}, {'word': 'vector', 'size': '41.5'}, {'word': 'stage', 'size': '41.0'}, {'word': 'game', 'size': '40.5'}, {'word': 'black', 'size': '40.0'}, {'word': 'beach', 'size': '39.5'}, {'word': 'tree', 'size': '39.0'}, {'word': 'people', 'size': '38.5'}, {'word': 'red', 'size': '38.0'}, {'word': 'girl', 'size': '37.5'}, {'word': 'playing', 'size': '37.0'}, {'word': 'attends', 'size': '36.5'}, {'word': 'night', 'size': '36.0'}, {'word': 'blue', 'size': '35.5'}, {'word': 'film', 'size': '35.0'}, {'word': 'water', 'size': '34.5'}, {'word': 'photo', 'size': '34.0'}, {'word': 'performs', 'size': '33.5'}, {'word': 'room', 'size': '33.0'}, {'word': 'house', 'size': '32.5'}, {'word': 'isolated', 'size': '32.0'}, {'word': 'show', 'size': '31.5'}, {'word': 'new', 'size': '31.0'}, {'word': 'festival', 'size': '30.5'}, {'word': 'beautiful', 'size': '30.0'}, {'word': 'old', 'size': '29.5'}, {'word': 'home', 'size': '29.0'}, {'word': 'fashion', 'size': '28.5'}, {'word': 'match', 'size': '28.0'}, {'word': 'looking', 'size': '27.5'}, {'word': 'car', 'size': '27.0'}, {'word': 'musical', 'size': '26.5'}, {'word': 'first', 'size': '26.0'}, {'word': 'portrait', 'size': '25.5'}, {'word': 'sky', 'size': '25.0'}, {'word': 'like', 'size': '24.5'}, {'word': 'may', 'size': '24.0'}, {'word': 'sitting', 'size': '23.5'}, {'word': 'world', 'size': '23.0'}, {'word': 'sports', 'size': '22.5'}, {'word': 'front', 'size': '22.0'}, {'word': 'green', 'size': '21.5'}, {'word': 'rock', 'size': '21.0'}, {'word': 'close', 'size': '20.5'}, {'word': 'event', 'size': '20.0'}, {'word': 'ball', 'size': '19.5'}, {'word': 'model', 'size': '19.0'}, {'word': 'one', 'size': '18.5'}, {'word': 'style', 'size': '18.0'}, {'word': 'building', 'size': '17.5'}, {'word': 'road', 'size': '17.0'}, {'word': 'wedding', 'size': '16.5'}, {'word': 'hand', 'size': '16.0'}, {'word': 'contain', 'size': '15.5'}, {'word': 'time', 'size': '15.0'}, {'word': 'street', 'size': '14.5'}, {'word': 'flowers', 'size': '14.0'}, {'word': 'small', 'size': '13.5'}, {'word': 'little', 'size': '13.0'}, {'word': 'art', 'size': '12.5'}, {'word': 'instrument', 'size': '12.0'}, {'word': 'sunset', 'size': '11.5'}, {'word': 'dress', 'size': '11.0'}, {'word': 'pop', 'size': '10.5'}, {'word': 'sea', 'size': '10.0'}, {'word': 'trees', 'size': '9.5'}, {'word': 'country', 'size': '9.0'}, {'word': 'field', 'size': '8.5'}, {'word': 'pattern', 'size': '8.0'}, {'word': 'back', 'size': '7.5'}, {'word': 'dog', 'size': '7.0'}, {'word': 'look', 'size': '6.5'}, {'word': 'snow', 'size': '6.0'}, {'word': 'table', 'size': '5.5'}, {'word': 'set', 'size': '5.0'}, {'word': 'attend', 'size': '4.5'}, {'word': 'family', 'size': '4.0'}, {'word': 'river', 'size': '3.5'}, {'word': 'walking', 'size': '3.0'}, {'word': 'christmas', 'size': '2.5'}, {'word': 'business', 'size': '2.0'}, {'word': 'flag', 'size': '1.5'}, {'word': 'wall', 'size': '1.0'}, {'word': 'design', 'size': '0.5'}]\n"
     ]
    }
   ],
   "source": [
    "word_cloud_output = list()\n",
    "i = 100\n",
    "max_size = 50\n",
    "min_size = 0\n",
    "for k, v in s[:500]:\n",
    "    \n",
    "    if k in stop_words:\n",
    "        continue\n",
    "    \n",
    "    inner_dictionary = dict()\n",
    "    inner_dictionary[\"word\"] = k\n",
    "    inner_dictionary[\"size\"] = str((max_size - min_size) * i /100)\n",
    "    i-=1\n",
    "    word_cloud_output.append(inner_dictionary)\n",
    "    #print(\"{}:{}\".format(k,v))\n",
    "\n",
    "print(word_cloud_output[:100])"
   ]
  },
  {
   "cell_type": "code",
   "execution_count": null,
   "metadata": {},
   "outputs": [],
   "source": []
  }
 ],
 "metadata": {
  "kernelspec": {
   "display_name": "Python 3",
   "language": "python",
   "name": "python3"
  },
  "language_info": {
   "codemirror_mode": {
    "name": "ipython",
    "version": 3
   },
   "file_extension": ".py",
   "mimetype": "text/x-python",
   "name": "python",
   "nbconvert_exporter": "python",
   "pygments_lexer": "ipython3",
   "version": "3.7.3"
  },
  "pycharm": {
   "stem_cell": {
    "cell_type": "raw",
    "metadata": {
     "collapsed": false
    },
    "source": []
   }
  }
 },
 "nbformat": 4,
 "nbformat_minor": 1
}
